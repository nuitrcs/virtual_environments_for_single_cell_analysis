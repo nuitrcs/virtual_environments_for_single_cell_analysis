{
 "cells": [
  {
   "cell_type": "code",
   "execution_count": 1,
   "id": "5caaba7f",
   "metadata": {},
   "outputs": [
    {
     "name": "stdout",
     "output_type": "stream",
     "text": [
      "True\n",
      "1\n",
      "NVIDIA H100 PCIe\n"
     ]
    }
   ],
   "source": [
    "import torch\n",
    "print(torch.cuda.is_available())\n",
    "print(torch.cuda.device_count())\n",
    "print(torch.cuda.get_device_name())"
   ]
  },
  {
   "cell_type": "code",
   "execution_count": 2,
   "id": "a9b94275",
   "metadata": {},
   "outputs": [],
   "source": [
    "import scanpy\n",
    "import jaxlib"
   ]
  },
  {
   "cell_type": "code",
   "execution_count": 4,
   "id": "2a1775f1",
   "metadata": {},
   "outputs": [],
   "source": [
    "import matplotlib\n",
    "import seaborn \n",
    "import sc_utils"
   ]
  }
 ],
 "metadata": {
  "kernelspec": {
   "display_name": "Python (ml-data-science-kernel-py310)",
   "language": "python",
   "name": "ml-data-science-kernel-py310"
  },
  "language_info": {
   "codemirror_mode": {
    "name": "ipython",
    "version": 3
   },
   "file_extension": ".py",
   "mimetype": "text/x-python",
   "name": "python",
   "nbconvert_exporter": "python",
   "pygments_lexer": "ipython3",
   "version": "3.10.13"
  }
 },
 "nbformat": 4,
 "nbformat_minor": 5
}
